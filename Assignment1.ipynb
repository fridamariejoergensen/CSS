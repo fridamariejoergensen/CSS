{
 "cells": [
  {
   "attachments": {},
   "cell_type": "markdown",
   "id": "6d09f115",
   "metadata": {},
   "source": [
    "Link to Github repository: https://github.com/fridamariejoergensen/CSS.git <br>\n",
    "### Contribution Statement\n",
    "\n",
    "We, Frida(s206182), Cecilie(s214605), and Marie(sXXXXXX), collaborated on Assignment 1 in Jupyter Notebook and made the following contributions:\n",
    "\n",
    "- Cecilie focused on this\n",
    "\n",
    "- Frida did this\n",
    "\n",
    "- Marie did this\n",
    "\n"
   ]
  },
  {
   "cell_type": "markdown",
   "id": "30382ee0",
   "metadata": {},
   "source": [
    "# Assignment 1 - \"name\""
   ]
  },
  {
   "cell_type": "code",
   "execution_count": 1,
   "id": "132c3388",
   "metadata": {},
   "outputs": [],
   "source": [
    "test = 2"
   ]
  },
  {
   "cell_type": "code",
   "execution_count": null,
   "id": "08faee26",
   "metadata": {},
   "outputs": [],
   "source": []
  },
  {
   "cell_type": "code",
   "execution_count": null,
   "id": "8c8ea79f",
   "metadata": {},
   "outputs": [],
   "source": []
  },
  {
   "cell_type": "code",
   "execution_count": null,
   "id": "8c9844ca",
   "metadata": {},
   "outputs": [],
   "source": []
  }
 ],
 "metadata": {
  "kernelspec": {
   "display_name": "Python 3",
   "language": "python",
   "name": "python3"
  },
  "language_info": {
   "codemirror_mode": {
    "name": "ipython",
    "version": 3
   },
   "file_extension": ".py",
   "mimetype": "text/x-python",
   "name": "python",
   "nbconvert_exporter": "python",
   "pygments_lexer": "ipython3",
   "version": "3.9.6"
  },
  "vscode": {
   "interpreter": {
    "hash": "aee8b7b246df8f9039afb4144a1f6fd8d2ca17a180786b69acc140d282b71a49"
   }
  }
 },
 "nbformat": 4,
 "nbformat_minor": 5
}

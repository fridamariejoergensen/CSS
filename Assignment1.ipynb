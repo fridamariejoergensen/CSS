{
 "cells": [
  {
   "attachments": {},
   "cell_type": "markdown",
   "id": "6d09f115",
   "metadata": {},
   "source": [
    "Link to Github repository: https://github.com/fridamariejoergensen/CSS.git <br>\n",
    "### Contribution Statement\n",
    "\n",
    "We, Frida(s206182), Cecilie(s214605), and Marie(sXXXXXX), collaborated on Assignment 1 in Jupyter Notebook and made the following contributions:\n",
    "\n",
    "- Cecilie focused on this\n",
    "\n",
    "- Frida did this\n",
    "\n",
    "- Marie did this\n",
    "\n"
   ]
  },
  {
   "attachments": {},
   "cell_type": "markdown",
   "id": "30382ee0",
   "metadata": {},
   "source": [
    "# Assignment 1"
   ]
  },
  {
   "cell_type": "code",
   "execution_count": 6,
   "id": "132c3388",
   "metadata": {},
   "outputs": [],
   "source": [
    "import requests\n",
    "from bs4 import BeautifulSoup\n",
    "import pandas as pd\n",
    "import re\n",
    "import numpy as np\n",
    "import pickle\n",
    "import matplotlib.pyplot as plt\n"
   ]
  },
  {
   "cell_type": "markdown",
   "id": "1ca1b2ea",
   "metadata": {},
   "source": [
    "## Part 1: Using web-scraping to gather data"
   ]
  },
  {
   "attachments": {},
   "cell_type": "markdown",
   "id": "b23e40d1",
   "metadata": {},
   "source": [
    "### 2019 edition"
   ]
  },
  {
   "cell_type": "code",
   "execution_count": null,
   "id": "08faee26",
   "metadata": {},
   "outputs": [],
   "source": [
    "## Poster\n",
    "LINK = \"https://2019.ic2s2.org/posters/\"\n",
    "r = requests.get(LINK) \n",
    "soup = BeautifulSoup(r.content)"
   ]
  },
  {
   "cell_type": "code",
   "execution_count": null,
   "id": "8c8ea79f",
   "metadata": {},
   "outputs": [],
   "source": [
    "listul = soup.find(\"div\",{\"class\":\"col-md-8 page-content-wrap\"})\n",
    "listli = listul.find_all(\"li\")\n",
    "\n",
    "allnames = []\n",
    "for i in range(len(listli)):\n",
    "    if listli[i].find(\"strong\"):\n",
    "        listli[i].strong.extract()\n",
    "    if listli[i].find(\"span\"):\n",
    "        listli[i].span.extract()\n",
    "    if listli[i].find(\"br\"):\n",
    "        listli[i].br.extract()\n",
    "        \n",
    "    names = listli[i].text.replace(\"\\n\",\"\").replace(\" and \",\",\").replace(\", \",\",\")\n",
    "    allnames = allnames + names.split(\",\")\n",
    "    \n",
    "\n",
    "\n",
    "un2019 = np.unique(np.array(allnames))\n",
    "len(un2019)"
   ]
  },
  {
   "attachments": {},
   "cell_type": "markdown",
   "id": "8c9844ca",
   "metadata": {},
   "source": [
    "There was ?? unique researchers that made poster presentations in 2019  "
   ]
  },
  {
   "cell_type": "code",
   "execution_count": 6,
   "id": "ec954c8c",
   "metadata": {},
   "outputs": [],
   "source": [
    "#### Oral\n",
    "LINK = 'https://2019.ic2s2.org/oral-presentations/'\n",
    "r = requests.get(LINK)\n",
    "all_oral = BeautifulSoup(r.content)"
   ]
  },
  {
   "cell_type": "code",
   "execution_count": null,
   "id": "928bf750",
   "metadata": {},
   "outputs": [],
   "source": [
    "# extract the specific element of the site that contains the names\n",
    "paragraphs = all_oral.find_all(\"p\", {\"class\":\"\"})[3:39]"
   ]
  },
  {
   "cell_type": "code",
   "execution_count": null,
   "id": "ee708271",
   "metadata": {},
   "outputs": [],
   "source": [
    "names = []\n",
    "for p in paragraphs:\n",
    "    text = p.text.strip()\n",
    "    lines = text.split(' – ')\n",
    "    names.extend([line.split('.')[0] for line in lines[1:]])"
   ]
  },
  {
   "cell_type": "code",
   "execution_count": null,
   "id": "bcd52749",
   "metadata": {},
   "outputs": [],
   "source": [
    "# code that extracts list elements that contain numbers.\n",
    "\n",
    "def remove_elements_with_numbers(names):\n",
    "    return [i for i in names if not any(j.isdigit() for j in i)]\n",
    "\n",
    "p = remove_elements_with_numbers(names)"
   ]
  },
  {
   "cell_type": "code",
   "execution_count": 2,
   "id": "ba66ceac",
   "metadata": {},
   "outputs": [
    {
     "ename": "NameError",
     "evalue": "name 'p' is not defined",
     "output_type": "error",
     "traceback": [
      "\u001b[1;31m---------------------------------------------------------------------------\u001b[0m",
      "\u001b[1;31mNameError\u001b[0m                                 Traceback (most recent call last)",
      "Cell \u001b[1;32mIn[2], line 1\u001b[0m\n\u001b[1;32m----> 1\u001b[0m newlist \u001b[39m=\u001b[39m [word \u001b[39mfor\u001b[39;00m line \u001b[39min\u001b[39;00m p \u001b[39mfor\u001b[39;00m word \u001b[39min\u001b[39;00m line\u001b[39m.\u001b[39msplit(\u001b[39m'\u001b[39m\u001b[39m,\u001b[39m\u001b[39m'\u001b[39m)]\n\u001b[0;32m      2\u001b[0m newlist\u001b[39m.\u001b[39mremove(\u001b[39m'\u001b[39m\u001b[39mNo Presentation\u001b[39m\u001b[39m'\u001b[39m)\n\u001b[0;32m      3\u001b[0m final_list \u001b[39m=\u001b[39m np\u001b[39m.\u001b[39masarray(newlist)\n",
      "\u001b[1;31mNameError\u001b[0m: name 'p' is not defined"
     ]
    }
   ],
   "source": [
    "newlist = [word for line in p for word in line.split(',')]\n",
    "newlist.remove('No Presentation')\n",
    "final_list = np.asarray(newlist)\n",
    "print(len(np.unique(final_list)))"
   ]
  },
  {
   "attachments": {},
   "cell_type": "markdown",
   "id": "1a598bb7",
   "metadata": {},
   "source": [
    "There was ?? unique researchers that made oral presentations in 2019  "
   ]
  },
  {
   "cell_type": "code",
   "execution_count": 5,
   "id": "3dd86500",
   "metadata": {},
   "outputs": [
    {
     "ename": "NameError",
     "evalue": "name 'np' is not defined",
     "output_type": "error",
     "traceback": [
      "\u001b[0;31m---------------------------------------------------------------------------\u001b[0m",
      "\u001b[0;31mNameError\u001b[0m                                 Traceback (most recent call last)",
      "Cell \u001b[0;32mIn[5], line 2\u001b[0m\n\u001b[1;32m      1\u001b[0m \u001b[39m# Combine the two lists of poster and oral presentators\u001b[39;00m\n\u001b[0;32m----> 2\u001b[0m combined_list \u001b[39m=\u001b[39m np\u001b[39m.\u001b[39mconcatenate((final_list, un2019))\n\u001b[1;32m      3\u001b[0m \u001b[39m# Find the length of unique combined list that attended the conference in 2019 \u001b[39;00m\n\u001b[1;32m      4\u001b[0m \u001b[39mprint\u001b[39m(\u001b[39mlen\u001b[39m(np\u001b[39m.\u001b[39munique(combined_list)))\n",
      "\u001b[0;31mNameError\u001b[0m: name 'np' is not defined"
     ]
    }
   ],
   "source": [
    "# Combine the two lists of poster and oral presentators\n",
    "combined_list = np.concatenate((final_list, un2019))\n",
    "# Find the length of unique combined list that attended the conference in 2019 \n",
    "print(len(np.unique(combined_list)))"
   ]
  },
  {
   "cell_type": "markdown",
   "id": "fead125b",
   "metadata": {},
   "source": [
    "In total there was ?? unique researchers you got in 2019"
   ]
  },
  {
   "cell_type": "markdown",
   "id": "1e5eca51",
   "metadata": {},
   "source": [
    "Explain one or two decisions you took during the web-scraping exercise, for 2019 or any other year. Why did you take this choice? How might your decision impact the final number of authors?"
   ]
  },
  {
   "cell_type": "code",
   "execution_count": null,
   "id": "1e722e9f",
   "metadata": {},
   "outputs": [],
   "source": []
  },
  {
   "attachments": {},
   "cell_type": "markdown",
   "id": "5d651449",
   "metadata": {},
   "source": [
    "## Part 2: Getting data from the Semantic Scholar API\n",
    "Consider the list of author ids you have found in Week 2, Part 3, first excercise. For each author, use the Academic Graph API to find: <br>\n",
    "- their aliases <br>\n",
    "- their name <br>\n",
    "- their papers <br>\n",
    "\n",
    "(**Share the number of authors you will use as starting point in this exercises. Add a comment clarifying how many IC2S2 editions you included and if the collaborators were included or not!!)"
   ]
  },
  {
   "cell_type": "markdown",
   "id": "acfab70c",
   "metadata": {},
   "source": [
    "Create three dataframe to store the data you have collected:"
   ]
  },
  {
   "cell_type": "markdown",
   "id": "f6f3e0f1",
   "metadata": {},
   "source": [
    "**Author dataset**: in the author dataset, one raw is one unique author, and each row contains the following information: <br>\n",
    "- authorId: (str) the id of the author <br>\n",
    "- name: (str) the name of the author <br> \n",
    "- aliases: (list) the aliases of the author <br>\n",
    "- citationCount: (int) the total number of citations received by an author <br>\n",
    "- field: (str) the s2FieldsOfStudy that occurs most times across an author's papers (you should first obtain the category for each s2FieldsOfStudy) \n",
    "\n"
   ]
  },
  {
   "cell_type": "code",
   "execution_count": null,
   "id": "0a8c5108",
   "metadata": {},
   "outputs": [],
   "source": []
  },
  {
   "cell_type": "code",
   "execution_count": null,
   "id": "d462d9aa",
   "metadata": {},
   "outputs": [],
   "source": []
  },
  {
   "attachments": {},
   "cell_type": "markdown",
   "id": "aeb58765",
   "metadata": {},
   "source": [
    "**Paper dataset**: in the paper dataset, one row is one unique paper, and each row contains the following information: <br>\n",
    "- paperId: (str) the id of the paper <br>\n",
    "- title: (str) the title of the paper <br> \n",
    "- year: (int) the year of publication <br>\n",
    "- externalId.DOI: (str) the DOI of the paper <br>\n",
    "- citationCount: (int) the number of citations <br>\n",
    "- fields: (list) the fields included in the paper (you should first obtain the category for each s2FieldsOfStudy) <br>\n",
    "-  authorIds: (list) this is a list of author Ids, including all the authors of this paper that are in our author dataset\n"
   ]
  },
  {
   "cell_type": "code",
   "execution_count": null,
   "id": "7697313c",
   "metadata": {},
   "outputs": [],
   "source": []
  },
  {
   "cell_type": "code",
   "execution_count": null,
   "id": "d577294f",
   "metadata": {},
   "outputs": [],
   "source": []
  },
  {
   "attachments": {},
   "cell_type": "markdown",
   "id": "54e61da7",
   "metadata": {},
   "source": [
    "\n",
    "**Paper abstract dataset**: in the paper abstract dataset, one row is one unique paper, and each row contains the following information: <br>\n",
    "- paperId: (str) the id of the paper <br>\n",
    "- abstract: (str) the abstract of the paper\n"
   ]
  },
  {
   "cell_type": "code",
   "execution_count": null,
   "id": "1781bf4b",
   "metadata": {},
   "outputs": [],
   "source": []
  },
  {
   "cell_type": "code",
   "execution_count": null,
   "id": "fc23159e",
   "metadata": {},
   "outputs": [],
   "source": []
  },
  {
   "cell_type": "markdown",
   "id": "5f6727ed",
   "metadata": {},
   "source": [
    "How long is your final Author dataframe? How long is your final Paper dataframe?"
   ]
  },
  {
   "cell_type": "markdown",
   "id": "a8b07ebe",
   "metadata": {},
   "source": []
  },
  {
   "cell_type": "code",
   "execution_count": null,
   "id": "0f400466",
   "metadata": {},
   "outputs": [],
   "source": []
  },
  {
   "cell_type": "markdown",
   "id": "dbadc5b6",
   "metadata": {},
   "source": [
    "## Part 3: Law of large numbers."
   ]
  },
  {
   "cell_type": "code",
   "execution_count": 4,
   "id": "b41229f8",
   "metadata": {},
   "outputs": [],
   "source": [
    "# 1. Sampling 10.000 points from Gaussian distribution with mean 0 and std 4\n",
    "N = 10000\n",
    "mu = 0\n",
    "sigma = 4\n",
    "\n",
    "X = np.random.normal(mu, sigma, N)"
   ]
  },
  {
   "cell_type": "code",
   "execution_count": 31,
   "id": "d72d62be",
   "metadata": {},
   "outputs": [
    {
     "name": "stdout",
     "output_type": "stream",
     "text": [
      "-17.49355546826846 13.74973390775722\n"
     ]
    },
    {
     "data": {
      "text/plain": [
       "<BarContainer object of 49 artists>"
      ]
     },
     "execution_count": 31,
     "metadata": {},
     "output_type": "execute_result"
    },
    {
     "data": {
      "image/png": "[encoded data removed]",
      "text/plain": [
       "<Figure size 700x400 with 1 Axes>"
      ]
     },
     "metadata": {},
     "output_type": "display_data"
    }
   ],
   "source": [
    "# 2. Plotting the distribution of Gaussian data in a histogram\n",
    "print(min(X), max(X)) # min(X) = -17.5, max(X) = 14\n",
    "\n",
    "bins = np.linspace(-18, 14, 50)\n",
    "hist, edges = np.histogram(X, bins=bins)\n",
    "x = edges[1:]+edges[:-1]/2\n",
    "width = bins[1]-bins[0]\n",
    "fig, ax = plt.subplots(figsize=(7,4))\n",
    "ax.set_ylabel('Density of X')\n",
    "ax.set_xlabel('X')\n",
    "ax.set_title('Distrubition of Gaussian data')\n",
    "ax.bar(x, hist, width)"
   ]
  },
  {
   "cell_type": "code",
   "execution_count": 16,
   "id": "dd35b61f",
   "metadata": {},
   "outputs": [
    {
     "name": "stdout",
     "output_type": "stream",
     "text": [
      "[ 1.90828286 -0.10988178 -1.02379411 ... -0.04193847 -0.04181708\n",
      " -0.04232607]\n"
     ]
    }
   ],
   "source": [
    "# 3. Cumulative average of X\n",
    "cum_av = np.array([])\n",
    "for i in range(1, N+1):\n",
    "    val = X[0:i]\n",
    "    cum_av = np.append(cum_av, np.mean(val))\n",
    "    \n",
    "print(cum_av)"
   ]
  },
  {
   "cell_type": "code",
   "execution_count": 17,
   "id": "a68f0e6c",
   "metadata": {},
   "outputs": [
    {
     "name": "stdout",
     "output_type": "stream",
     "text": [
      "[0.         0.02018165 0.02094229 ... 0.04020488 0.04020306 0.04020427]\n"
     ]
    }
   ],
   "source": [
    "# 4. Cumulative std of X\n",
    "cum_std = np.array([])\n",
    "for i in range(1, N+1):\n",
    "    val = X[0:i]\n",
    "    cum_std = np.append(cum_std, np.std(val)/np.sqrt(N))\n",
    "    \n",
    "print(cum_std)"
   ]
  },
  {
   "cell_type": "code",
   "execution_count": 24,
   "id": "99409f55",
   "metadata": {},
   "outputs": [
    {
     "name": "stdout",
     "output_type": "stream",
     "text": [
      "-0.04232606886363468 -0.014551698218535223\n"
     ]
    }
   ],
   "source": [
    "# 5. Computing the distribution mean and median from Wikipedia formulas\n",
    "mean = 1/N * sum(X)\n",
    "\n",
    "X_new = np.copy(X) # making a copy of array to sort in order to calculate the median\n",
    "X_new = np.sort(X_new)\n",
    "median = (X_new[int(N/2)] + X_new[int((N/2+1))])/2\n",
    "\n",
    "print(mean, median)"
   ]
  },
  {
   "cell_type": "code",
   "execution_count": 35,
   "metadata": {},
   "outputs": [
    {
     "data": {
      "text/plain": [
       "<matplotlib.lines.Line2D at 0x7f8ed4e95fd0>"
      ]
     },
     "execution_count": 35,
     "metadata": {},
     "output_type": "execute_result"
    },
    {
     "data": {
      "image/png": "[encoded data removed]",
      "text/plain": [
       "<Figure size 640x480 with 1 Axes>"
      ]
     },
     "metadata": {},
     "output_type": "display_data"
    }
   ],
   "source": [
    "# 6. Plot of cumulative average as line plot with error bars and horizontal line of distribution mean\n",
    "plt.plot(range(N), cum_av, c = 'blue') # cumulative average is blue\n",
    "plt.errorbar(range(N), cum_av, yerr = cum_std, ecolor='red') # error bars are red\n",
    "plt.axhline(mean, c = 'black') # distribution mean is black\n",
    "#plt.xticks(np.arange(-100,10000,step=5))"
   ]
  }
 ],
 "metadata": {
  "kernelspec": {
   "display_name": "Python 3",
   "language": "python",
   "name": "python3"
  },
  "language_info": {
   "codemirror_mode": {
    "name": "ipython",
    "version": 3
   },
   "file_extension": ".py",
   "mimetype": "text/x-python",
   "name": "python",
   "nbconvert_exporter": "python",
   "pygments_lexer": "ipython3",
   "version": "3.9.6"
  },
  "vscode": {
   "interpreter": {
    "hash": "aee8b7b246df8f9039afb4144a1f6fd8d2ca17a180786b69acc140d282b71a49"
   }
  }
 },
 "nbformat": 4,
 "nbformat_minor": 5
}

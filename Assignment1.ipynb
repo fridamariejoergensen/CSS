{
 "cells": [
  {
   "cell_type": "markdown",
   "id": "6d09f115",
   "metadata": {},
   "source": [
    "Link to Github repository: https://github.com/fridamariejoergensen/CSS.git <br>\n",
    "### Contribution Statement\n",
    "\n",
    "We, Frida(s206182), Cecilie(sXXXXXX), and Marie(sXXXXXX), collaborated on Assignment 1 in Jupyter Notebook and made the following contributions:\n",
    "\n",
    "- Cecilie focused on this\n",
    "\n",
    "- Frida did this\n",
    "\n",
    "- Marie did this\n",
    "\n"
   ]
  },
  {
   "cell_type": "markdown",
   "id": "30382ee0",
   "metadata": {},
   "source": [
    "# Assignment 1 - \"name\""
   ]
  },
  {
   "cell_type": "code",
   "execution_count": null,
   "id": "132c3388",
   "metadata": {},
   "outputs": [],
   "source": [
    "import requests\n",
    "from bs4 import BeautifulSoup\n",
    "import pandas as pd\n",
    "import re\n",
    "import numpy as np\n",
    "import PyPDF2\n",
    "import pickle"
   ]
  },
  {
   "cell_type": "markdown",
   "id": "b23e40d1",
   "metadata": {},
   "source": [
    "## 2019 edition"
   ]
  },
  {
   "cell_type": "code",
   "execution_count": null,
   "id": "08faee26",
   "metadata": {},
   "outputs": [],
   "source": [
    "## Poster\n",
    "LINK = \"https://2019.ic2s2.org/posters/\"\n",
    "r = requests.get(LINK) \n",
    "soup = BeautifulSoup(r.content)"
   ]
  },
  {
   "cell_type": "code",
   "execution_count": null,
   "id": "8c8ea79f",
   "metadata": {},
   "outputs": [],
   "source": [
    "listul = soup.find(\"div\",{\"class\":\"col-md-8 page-content-wrap\"})\n",
    "listli = listul.find_all(\"li\")\n",
    "\n",
    "allnames = []\n",
    "for i in range(len(listli)):\n",
    "    if listli[i].find(\"strong\"):\n",
    "        listli[i].strong.extract()\n",
    "    if listli[i].find(\"span\"):\n",
    "        listli[i].span.extract()\n",
    "    if listli[i].find(\"br\"):\n",
    "        listli[i].br.extract()\n",
    "        \n",
    "    names = listli[i].text.replace(\"\\n\",\"\").replace(\" and \",\",\").replace(\", \",\",\")\n",
    "    allnames = allnames + names.split(\",\")\n",
    "    \n",
    "\n",
    "\n",
    "un2019 = np.unique(np.array(allnames))\n",
    "len(un2019)"
   ]
  },
  {
   "cell_type": "code",
   "execution_count": null,
   "id": "8c9844ca",
   "metadata": {},
   "outputs": [],
   "source": []
  },
  {
   "cell_type": "code",
   "execution_count": null,
   "id": "ec954c8c",
   "metadata": {},
   "outputs": [],
   "source": [
    "#### ORal\n",
    "LINK = 'https://2019.ic2s2.org/oral-presentations/'\n",
    "r = requests.get(LINK)\n",
    "all_oral = BeautifulSoup(r.content)"
   ]
  },
  {
   "cell_type": "code",
   "execution_count": null,
   "id": "928bf750",
   "metadata": {},
   "outputs": [],
   "source": [
    "# extract the specific element of the site that contains the names\n",
    "paragraphs = all_oral.find_all(\"p\", {\"class\":\"\"})[3:39]"
   ]
  },
  {
   "cell_type": "code",
   "execution_count": null,
   "id": "ee708271",
   "metadata": {},
   "outputs": [],
   "source": [
    "names = []\n",
    "for p in paragraphs:\n",
    "    text = p.text.strip()\n",
    "    lines = text.split(' – ')\n",
    "    names.extend([line.split('.')[0] for line in lines[1:]])"
   ]
  },
  {
   "cell_type": "code",
   "execution_count": null,
   "id": "bcd52749",
   "metadata": {},
   "outputs": [],
   "source": [
    "# some code that extracts list elements that contain numbers.\n",
    "\n",
    "def remove_elements_with_numbers(names):\n",
    "    return [i for i in names if not any(j.isdigit() for j in i)]\n",
    "\n",
    "p = remove_elements_with_numbers(names)"
   ]
  },
  {
   "cell_type": "code",
   "execution_count": 2,
   "id": "ba66ceac",
   "metadata": {},
   "outputs": [
    {
     "ename": "NameError",
     "evalue": "name 'p' is not defined",
     "output_type": "error",
     "traceback": [
      "\u001b[1;31m---------------------------------------------------------------------------\u001b[0m",
      "\u001b[1;31mNameError\u001b[0m                                 Traceback (most recent call last)",
      "Cell \u001b[1;32mIn[2], line 1\u001b[0m\n\u001b[1;32m----> 1\u001b[0m newlist \u001b[39m=\u001b[39m [word \u001b[39mfor\u001b[39;00m line \u001b[39min\u001b[39;00m p \u001b[39mfor\u001b[39;00m word \u001b[39min\u001b[39;00m line\u001b[39m.\u001b[39msplit(\u001b[39m'\u001b[39m\u001b[39m,\u001b[39m\u001b[39m'\u001b[39m)]\n\u001b[0;32m      2\u001b[0m newlist\u001b[39m.\u001b[39mremove(\u001b[39m'\u001b[39m\u001b[39mNo Presentation\u001b[39m\u001b[39m'\u001b[39m)\n\u001b[0;32m      3\u001b[0m final_list \u001b[39m=\u001b[39m np\u001b[39m.\u001b[39masarray(newlist)\n",
      "\u001b[1;31mNameError\u001b[0m: name 'p' is not defined"
     ]
    }
   ],
   "source": [
    "newlist = [word for line in p for word in line.split(',')]\n",
    "newlist.remove('No Presentation')\n",
    "final_list = np.asarray(newlist)\n",
    "print(len(np.unique(final_list)))"
   ]
  },
  {
   "cell_type": "code",
   "execution_count": null,
   "id": "3dd86500",
   "metadata": {},
   "outputs": [],
   "source": [
    "combined_list = np.concatenate((final_list, un2019))\n",
    "print(len(np.unique(combined_list)))"
   ]
  },
  {
   "cell_type": "markdown",
   "id": "94e4f694",
   "metadata": {},
   "source": [
    "## 2020 edition"
   ]
  },
  {
   "cell_type": "code",
   "execution_count": null,
   "id": "432a632e",
   "metadata": {},
   "outputs": [],
   "source": [
    "LINK = \"https://docs.google.com/spreadsheets/u/0/d/e/2PACX-1vTX9_1Xftn7D-nSI8X9b7tafr_Z0kAbphKdfZ8qUSU9p-syXNsGPdhHl5ZyTnKKL-T6dCEJqtsrn3wy/pubhtml/sheet?headers=false&gid=181378784\"\n",
    "r = requests.get(LINK)\n",
    "soup = BeautifulSoup(r.content)"
   ]
  },
  {
   "cell_type": "code",
   "execution_count": null,
   "id": "eb3d0785",
   "metadata": {},
   "outputs": [],
   "source": [
    "table = soup.find(\"table\")\n",
    "   \n",
    "#HERE I GET THE ROWS\n",
    "allnames = []\n",
    "tabrows = table.tbody.find_all(\"tr\")\n",
    "\n",
    "for tr in tabrows[1:]:\n",
    "    tds = tr.find_all('td')\n",
    "    names = tds[2].text.replace(\", \",\",\").replace(\" and \",\",\")\n",
    "    allnames = allnames + names.split(\",\")\n",
    "\n",
    "un2020 = np.unique(np.array(allnames))\n",
    "len(un2020)"
   ]
  },
  {
   "cell_type": "markdown",
   "id": "6d36ff9b",
   "metadata": {},
   "source": [
    "## 2021 edition"
   ]
  },
  {
   "cell_type": "code",
   "execution_count": null,
   "id": "aa5bfa82",
   "metadata": {},
   "outputs": [],
   "source": [
    "## All authors 2021\n",
    "url = 'https://easychair.org/smart-program/IC2S2-2021/talk_author_index.html#let9'\n",
    "r2 = requests.get(url)\n",
    "soup2 = BeautifulSoup(r2.content)"
   ]
  },
  {
   "cell_type": "code",
   "execution_count": null,
   "id": "b040f4f6",
   "metadata": {},
   "outputs": [],
   "source": [
    "# Finding table holding the data\n",
    "table = soup2.find(\"table\",{\"class\":\"index\"})\n",
    "table_rows = table.find_all(\"tr\")"
   ]
  },
  {
   "cell_type": "code",
   "execution_count": null,
   "id": "daff3c02",
   "metadata": {},
   "outputs": [],
   "source": [
    "# Subtracting all names into a list\n",
    "rows = []\n",
    "for tr in table_rows[1:]:\n",
    "    tds = tr.find_all('td', {'class':'name'})\n",
    "    row = [td.text.replace(\"\\n\",\"\") for td in tds]\n",
    "    rows.append(row)"
   ]
  },
  {
   "cell_type": "code",
   "execution_count": null,
   "id": "b2e92370",
   "metadata": {},
   "outputs": [],
   "source": [
    "# Splitting strings in list into more strings\n",
    "new_rows = []\n",
    "for i in range(len(rows)):\n",
    "    if len(rows[i]) > 0:\n",
    "        new_rows.append(rows[i][0].split(','))\n",
    "    else:\n",
    "        continue"
   ]
  },
  {
   "cell_type": "code",
   "execution_count": null,
   "id": "76dac578",
   "metadata": {},
   "outputs": [],
   "source": [
    "# Reversing order of front name and last name in lists\n",
    "for i in range(len(new_rows)):\n",
    "    pos = new_rows[i][0]\n",
    "    new_rows[i][0] = new_rows[i][1]\n",
    "    new_rows[i][1] = pos"
   ]
  },
  {
   "cell_type": "code",
   "execution_count": null,
   "id": "3d7e7382",
   "metadata": {},
   "outputs": [],
   "source": [
    "# Removing nested lists and joining strings\n",
    "result = []\n",
    "for i in new_rows:\n",
    "    rev = ' '.join(i)\n",
    "    result.append(rev)\n",
    "\n",
    "print(len(np.unique(result))) # = 692"
   ]
  },
  {
   "cell_type": "code",
   "execution_count": null,
   "id": "54a66b2e",
   "metadata": {},
   "outputs": [],
   "source": [
    "list_all_years = np.unique(np.concatenate((final_list, un2019,un2020,result)))\n",
    "print(len(list_all_years))"
   ]
  },
  {
   "cell_type": "code",
   "execution_count": null,
   "id": "d3874493",
   "metadata": {},
   "outputs": [],
   "source": [
    "pickle.dump(list_all_years,open(\"pickles/conference_names\",\"wb\"))"
   ]
  },
  {
   "cell_type": "code",
   "execution_count": null,
   "id": "1e5eca51",
   "metadata": {},
   "outputs": [],
   "source": []
  }
 ],
 "metadata": {
  "kernelspec": {
   "display_name": "Python 3.10.10 64-bit (microsoft store)",
   "language": "python",
   "name": "python3"
  },
  "language_info": {
   "codemirror_mode": {
    "name": "ipython",
    "version": 3
   },
   "file_extension": ".py",
   "mimetype": "text/x-python",
   "name": "python",
   "nbconvert_exporter": "python",
   "pygments_lexer": "ipython3",
   "version": "3.10.10"
  },
  "vscode": {
   "interpreter": {
    "hash": "f5d14bf7640b47197a6bbe8a44938f4fb26dc5f9096bfdaeef805483a9a318f3"
   }
  }
 },
 "nbformat": 4,
 "nbformat_minor": 5
}
